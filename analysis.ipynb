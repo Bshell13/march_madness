{
 "cells": [
  {
   "cell_type": "markdown",
   "metadata": {},
   "source": [
    "# NCAA Predictions\n",
    "Brandon Shellenberger<br>\n",
    "Last updated 1/7/2025"
   ]
  },
  {
   "cell_type": "markdown",
   "metadata": {},
   "source": [
    "#### Importing Libraries"
   ]
  },
  {
   "cell_type": "code",
   "execution_count": 7,
   "metadata": {},
   "outputs": [],
   "source": [
    "import matplotlib.pyplot as plt\n",
    "import pandas as pd\n",
    "import seaborn as sns\n",
    "import numpy as np\n",
    "import kagglehub\n",
    "from pathlib import Path\n",
    "import shutil"
   ]
  },
  {
   "cell_type": "markdown",
   "metadata": {},
   "source": [
    "#### Importing API"
   ]
  },
  {
   "cell_type": "code",
   "execution_count": 13,
   "metadata": {},
   "outputs": [
    {
     "name": "stdout",
     "output_type": "stream",
     "text": [
      "Path to dataset files: C:\\Users\\brand\\.cache\\kagglehub\\datasets\\jonathanpilafas\\2024-march-madness-statistical-analysis\\versions\\16\n",
      "Folder already exsits\n",
      "Folder not found or not a directory.\n"
     ]
    },
    {
     "data": {
      "text/plain": [
       "WindowsPath('data')"
      ]
     },
     "execution_count": 13,
     "metadata": {},
     "output_type": "execute_result"
    }
   ],
   "source": [
    "# Download latest version\n",
    "source_path = kagglehub.dataset_download(\"jonathanpilafas/2024-march-madness-statistical-analysis\")\n",
    "\n",
    "print(\"Path to dataset files:\", source_path)\n",
    "\n",
    "# Moving dataset into current directory\n",
    "folder_path = Path('data')\n",
    "if folder_path.exists() and folder_path.is_dir():\n",
    "    shutil.rmtree(folder_path)\n",
    "    print(\"Folder deleted successfully.\")\n",
    "else:\n",
    "    print(\"Folder not found or not a directory.\")\n",
    "\n",
    "dest_path = Path('.')\n",
    "if Path('16').exists():\n",
    "    print(\"Folder already exsits\")\n",
    "else:\n",
    "    shutil.move(source_path, dest_path)\n",
    "\n",
    "Path('16').rename('data')\n"
   ]
  },
  {
   "cell_type": "markdown",
   "metadata": {},
   "source": [
    "#### "
   ]
  }
 ],
 "metadata": {
  "kernelspec": {
   "display_name": ".venv",
   "language": "python",
   "name": "python3"
  },
  "language_info": {
   "codemirror_mode": {
    "name": "ipython",
    "version": 3
   },
   "file_extension": ".py",
   "mimetype": "text/x-python",
   "name": "python",
   "nbconvert_exporter": "python",
   "pygments_lexer": "ipython3",
   "version": "3.13.1"
  }
 },
 "nbformat": 4,
 "nbformat_minor": 2
}
